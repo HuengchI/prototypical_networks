{
 "cells": [
  {
   "cell_type": "code",
   "execution_count": 1,
   "id": "9b67a4b4-3943-4041-8b1d-aa2e1a57b86c",
   "metadata": {},
   "outputs": [],
   "source": [
    "# 1\n",
    "%matplotlib inline\n",
    "# 2\n",
    "%load_ext autoreload\n",
    "%autoreload all\n",
    "# 3\n",
    "from IPython.core.interactiveshell import InteractiveShell\n",
    "InteractiveShell.ast_node_interactivity = \"all\""
   ]
  },
  {
   "cell_type": "code",
   "execution_count": 2,
   "id": "345dc62d-f419-4bce-aafd-5b4336997f06",
   "metadata": {},
   "outputs": [],
   "source": [
    "import sys\n",
    "sys.path.append('..')"
   ]
  },
  {
   "cell_type": "code",
   "execution_count": 3,
   "id": "8538f9a0-51e1-4a29-b8ba-58adb446d5ac",
   "metadata": {},
   "outputs": [],
   "source": [
    "import torch\n",
    "from src.protonet import ProtoNet\n",
    "from src.omniglot_dataset import OmniglotDataset\n",
    "from src.prototypical_batch_sampler import PrototypicalBatchSampler\n",
    "from src.prototypical_loss import prototypical_loss as loss_fn"
   ]
  },
  {
   "cell_type": "code",
   "execution_count": 4,
   "id": "f88a0456-5cd6-4a68-bd2d-f911f7a5c2eb",
   "metadata": {},
   "outputs": [
    {
     "name": "stdout",
     "output_type": "stream",
     "text": [
      "== Dataset: Found 82240 items \n",
      "== Dataset: Found 4112 classes\n"
     ]
    }
   ],
   "source": [
    "dataset = OmniglotDataset(mode='train', root='TMP')\n",
    "sampler = PrototypicalBatchSampler(labels=dataset.y, classes_per_it=5, num_samples=20, iterations=200)\n",
    "dataloader = torch.utils.data.DataLoader(dataset, batch_sampler=sampler)\n",
    "model = ProtoNet()"
   ]
  },
  {
   "cell_type": "code",
   "execution_count": 5,
   "id": "27b7a218-4d72-4973-a183-ce81354a521d",
   "metadata": {},
   "outputs": [],
   "source": [
    "tr_iter = iter(dataloader)\n",
    "batch = next(tr_iter)\n",
    "x, y=batch"
   ]
  },
  {
   "cell_type": "code",
   "execution_count": 6,
   "id": "0b80a48b-9155-4c3a-a980-6497db851f9c",
   "metadata": {},
   "outputs": [],
   "source": [
    "model_output = model(x)"
   ]
  },
  {
   "cell_type": "code",
   "execution_count": 7,
   "id": "7d281d5e-f200-4048-96c7-edfb9e2358e6",
   "metadata": {},
   "outputs": [
    {
     "data": {
      "text/plain": [
       "torch.Size([100, 64])"
      ]
     },
     "execution_count": 7,
     "metadata": {},
     "output_type": "execute_result"
    },
    {
     "data": {
      "text/plain": [
       "torch.Size([100])"
      ]
     },
     "execution_count": 7,
     "metadata": {},
     "output_type": "execute_result"
    }
   ],
   "source": [
    "model_output.shape\n",
    "y.shape"
   ]
  },
  {
   "cell_type": "code",
   "execution_count": 10,
   "id": "83d6085e-25ec-4af7-b844-6326f0ffd9f6",
   "metadata": {},
   "outputs": [
    {
     "data": {
      "text/plain": [
       "tensor(1.0487, grad_fn=<NegBackward0>)"
      ]
     },
     "execution_count": 10,
     "metadata": {},
     "output_type": "execute_result"
    },
    {
     "data": {
      "text/plain": [
       "tensor(0.6400)"
      ]
     },
     "execution_count": 10,
     "metadata": {},
     "output_type": "execute_result"
    }
   ],
   "source": [
    "loss, acc = loss_fn(model_output, target=y, n_support=5)\n",
    "loss\n",
    "acc"
   ]
  },
  {
   "cell_type": "code",
   "execution_count": 11,
   "id": "9d70ebbd-1dec-4dfb-91d4-6976440ea100",
   "metadata": {},
   "outputs": [
    {
     "name": "stdout",
     "output_type": "stream",
     "text": [
      "Test passed\n"
     ]
    }
   ],
   "source": [
    "print('Test passed')"
   ]
  },
  {
   "cell_type": "code",
   "execution_count": null,
   "id": "9974a3d3-e076-4a70-b90f-53aed88498ab",
   "metadata": {},
   "outputs": [],
   "source": []
  }
 ],
 "metadata": {
  "kernelspec": {
   "display_name": "Python 3 (ipykernel)",
   "language": "python",
   "name": "python3"
  },
  "language_info": {
   "codemirror_mode": {
    "name": "ipython",
    "version": 3
   },
   "file_extension": ".py",
   "mimetype": "text/x-python",
   "name": "python",
   "nbconvert_exporter": "python",
   "pygments_lexer": "ipython3",
   "version": "3.10.11"
  }
 },
 "nbformat": 4,
 "nbformat_minor": 5
}
