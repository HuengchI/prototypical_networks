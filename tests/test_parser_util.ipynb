{
 "cells": [
  {
   "cell_type": "code",
   "execution_count": 1,
   "id": "dde38475-7701-42b3-8fcd-57907bc26210",
   "metadata": {},
   "outputs": [],
   "source": [
    "# 1\n",
    "%matplotlib inline\n",
    "# 2\n",
    "%load_ext autoreload\n",
    "%autoreload all\n",
    "# 3\n",
    "from IPython.core.interactiveshell import InteractiveShell\n",
    "InteractiveShell.ast_node_interactivity = \"all\""
   ]
  },
  {
   "cell_type": "code",
   "execution_count": 2,
   "id": "7ab02c9a-53e4-4eb2-9b11-0600a7f4fbb5",
   "metadata": {},
   "outputs": [
    {
     "name": "stdout",
     "output_type": "stream",
     "text": [
      "../output\n"
     ]
    }
   ],
   "source": [
    "%run test_parser_util_runner.py"
   ]
  },
  {
   "cell_type": "code",
   "execution_count": null,
   "id": "384c919f-935f-438e-8d4e-38b93d8f3bb0",
   "metadata": {},
   "outputs": [],
   "source": []
  }
 ],
 "metadata": {
  "kernelspec": {
   "display_name": "Python 3 (ipykernel)",
   "language": "python",
   "name": "python3"
  },
  "language_info": {
   "codemirror_mode": {
    "name": "ipython",
    "version": 3
   },
   "file_extension": ".py",
   "mimetype": "text/x-python",
   "name": "python",
   "nbconvert_exporter": "python",
   "pygments_lexer": "ipython3",
   "version": "3.10.11"
  }
 },
 "nbformat": 4,
 "nbformat_minor": 5
}
